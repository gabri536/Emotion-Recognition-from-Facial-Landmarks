{
 "cells": [
  {
   "cell_type": "code",
   "execution_count": 1,
   "id": "ea7c4a07",
   "metadata": {},
   "outputs": [],
   "source": [
    "#Load the necessary packages\n",
    "import os\n",
    "import numpy as np\n",
    "import pandas as pd\n",
    "import csv"
   ]
  },
  {
   "cell_type": "markdown",
   "id": "757e0ab8",
   "metadata": {},
   "source": [
    "Reading the data produced by dlib's face detector: \n",
    "Each of the 68 points has two coordinates and there is additionally one column for the class."
   ]
  },
  {
   "cell_type": "markdown",
   "id": "8d1f92d9",
   "metadata": {},
   "source": [
    "The following procedure was done for the training files and for the test files afterwards. Also the calculation of the facial features were done for the train and for the test data. "
   ]
  },
  {
   "cell_type": "markdown",
   "id": "a4e4b855",
   "metadata": {},
   "source": [
    "Making single csv files and eliminating doubled lines:\n"
   ]
  },
  {
   "cell_type": "code",
   "execution_count": null,
   "id": "58227a22",
   "metadata": {},
   "outputs": [],
   "source": [
    "def erase_doubled_lines(input_csv, output_csv):\n",
    "    \"\"\"\n",
    "    Erases doubled lines from a csv file and produces a new one.\n",
    "\n",
    "    Args:\n",
    "        input_csv: path to input data.\n",
    "        output_csv: path to output data without doubled lines.\n",
    "    \"\"\"\n",
    "    unique_rows = set()\n",
    "    with open(input_csv, 'r', newline='', encoding='utf-8') as infile:\n",
    "        reader = csv.reader(infile)\n",
    "        # Neglect columnline\n",
    "        header = next(reader, None)\n",
    "        for row in reader:\n",
    "            # Convert a row to a string\n",
    "            row_str = ','.join(row)\n",
    "            unique_rows.add(row_str)\n",
    "\n",
    "    with open(output_csv, 'w', newline='', encoding='utf-8') as outfile:\n",
    "        writer = csv.writer(outfile)\n",
    "        for row_str in unique_rows:\n",
    "            row = row_str.split(',')\n",
    "            writer.writerow(row)\n",
    "\n",
    "# File is generated:\n",
    "input_file = r'C:\\Users\\Maximilian\\Documents\\Applied in Paython\\test_images_0.csv'\n",
    "output_file = 'test_0.csv'\n",
    "erase_doubled_lines(input_file, output_file)"
   ]
  },
  {
   "cell_type": "markdown",
   "id": "3a5dcef5",
   "metadata": {},
   "source": [
    "Load the cleaned data files:"
   ]
  },
  {
   "cell_type": "code",
   "execution_count": 5,
   "id": "c7b7a6a1",
   "metadata": {},
   "outputs": [
    {
     "name": "stdout",
     "output_type": "stream",
     "text": [
      "543\n",
      "672\n",
      "905\n",
      "1354\n",
      "640\n",
      "77\n",
      "643\n",
      "Das macht 4834 !\n"
     ]
    }
   ],
   "source": [
    "df6 = pd.read_csv(r'C:\\Users\\Maximilian\\Documents\\Applied in Paython\\Emotion-Recognition-from-Facial-Landmarks\\test_6.csv', header = None)\n",
    "print(len(df6))\n",
    "df5 = pd.read_csv(r'C:\\Users\\Maximilian\\Documents\\Applied in Paython\\Emotion-Recognition-from-Facial-Landmarks\\test_5.csv', header = None)\n",
    "print(len(df5))\n",
    "df4 = pd.read_csv(r'C:\\Users\\Maximilian\\Documents\\Applied in Paython\\Emotion-Recognition-from-Facial-Landmarks\\test_4.csv', header = None)\n",
    "print(len(df4))\n",
    "df3 = pd.read_csv(r'C:\\Users\\Maximilian\\Documents\\Applied in Paython\\Emotion-Recognition-from-Facial-Landmarks\\test_3.csv', header = None)\n",
    "print(len(df3))\n",
    "df2 = pd.read_csv(r'C:\\Users\\Maximilian\\Documents\\Applied in Paython\\Emotion-Recognition-from-Facial-Landmarks\\test_2.csv', header = None)\n",
    "print(len(df2))\n",
    "df1 = pd.read_csv(r'C:\\Users\\Maximilian\\Documents\\Applied in Paython\\Emotion-Recognition-from-Facial-Landmarks\\test_1.csv', header = None)\n",
    "print(len(df1))\n",
    "df0 = pd.read_csv(r'C:\\Users\\Maximilian\\Documents\\Applied in Paython\\Emotion-Recognition-from-Facial-Landmarks\\test_0.csv', header = None)\n",
    "print(len(df0))\n",
    "print('Das macht', len(df0)+len(df1)+len(df2)+len(df3)+len(df4)+len(df5)+len(df6), '!')"
   ]
  },
  {
   "cell_type": "code",
   "execution_count": 6,
   "id": "ddb7334b",
   "metadata": {},
   "outputs": [],
   "source": [
    "data = [df0, df1,df2, df3, df4, df5,df6]\n",
    "df_all = pd.concat(data, axis =0)"
   ]
  },
  {
   "cell_type": "code",
   "execution_count": null,
   "id": "3a81ac9b",
   "metadata": {},
   "outputs": [],
   "source": [
    "df_all.to_csv('finaltest.csv', index=False, header = False)"
   ]
  },
  {
   "cell_type": "markdown",
   "id": "7187e75a",
   "metadata": {},
   "source": [
    "---"
   ]
  },
  {
   "cell_type": "markdown",
   "id": "a979f1b8",
   "metadata": {},
   "source": [
    "Now some facial features based on the extracted facial landmarks shall be designed and determined: \n",
    "\n",
    "| Number | facial feature | used landmarks | computation |\n",
    "| --- | --- | --- | --- | \n",
    "| 0 | Mouth distance | 63, 67 | abs(63-67)|\n",
    "| 1 | Eye area right| 37,38,39,40,41,42 | A(...) |\n",
    "| 2 | Eye area left | 43,44,45,46,47,48 | A(...) |\n",
    "| 3 | Mouth area| 49,50,51,52,53,54,55,56,57,58,59,60 | A(...) |\n",
    "| 4 | Eye eyelash distance right | 37,18,19,38,39,21,40,22 | (1\\4)*(abs(37-18)+abs(19-38)+abs(39-21)+abs(40-22))|\n",
    "| 5 | Eye eyelash distance left| 23,43,44,24,45,26,46,27 | (1\\4)*(abs(23-43)+abs(44-24)+abs(45-26)+abs(46-27))|\n",
    "| 6 | Nose Height| 28,29,30,31,34| abs(28-29)+abs(29-30)+abs(30-31)+abs(31-34) |\n",
    "| 7 | Nose Width| 32,33,34,35,36 | abs(32-33)+abs(33-34)+abs(34-35)+abs(35-36)|\n",
    "| 8 | Mouth nose distance| 34, 52| abs(34-52)|\n",
    "| 9 | Mouth chin distance| 9, 58| abs(9-58)|\n",
    "| 10 | Head width| 1, 17| abs(1-17)|\n",
    "| 11 | Mouth area Eye area ratio| | (category(1) + category(2)) / category(3)|\n",
    "| 12 | Left-Right-Eye Ratio| | catgory(4)/category(5)|\n",
    "| 13 | Mouth-Chin-angle| 49, 9, 55| angle(49, 9, 55)|\n",
    "| 14 | Eyes-Nose-angle| 37, 34, 46| angle(37, 34, 46)|\n"
   ]
  },
  {
   "cell_type": "markdown",
   "id": "e15cc417",
   "metadata": {},
   "source": [
    "---"
   ]
  },
  {
   "cell_type": "markdown",
   "id": "4bedd653",
   "metadata": {},
   "source": [
    "<div class=\"alert alert-block alert-info\">\n",
    "<b> Now we start to calculate the facial features. For that we load the cleaned and concatenated data file:\n",
    "</div>"
   ]
  },
  {
   "cell_type": "code",
   "execution_count": 8,
   "id": "5bf9d742",
   "metadata": {},
   "outputs": [
    {
     "name": "stdout",
     "output_type": "stream",
     "text": [
      "<class 'pandas.core.frame.DataFrame'>\n",
      "<class 'numpy.ndarray'>\n",
      "137\n"
     ]
    }
   ],
   "source": [
    "df = pd.read_csv(r'C:\\Users\\Maximilian\\Documents\\Applied in Paython\\Emotion-Recognition-from-Facial-Landmarks\\finaltest.csv', index_col=None, header = None)\n",
    "print(type(df))\n",
    "df = df.to_numpy()\n",
    "print(type(df))\n",
    "print(len(df[0]))"
   ]
  },
  {
   "cell_type": "code",
   "execution_count": 9,
   "id": "29ad16a3",
   "metadata": {},
   "outputs": [],
   "source": [
    "def eucdist(p,q):\n",
    "    \"\"\"\n",
    "    Calculates the euclidean distance.\n",
    "\n",
    "    Arguments:\n",
    "    ----------\n",
    "     p: Numpy Array (first point)\n",
    "     q: Numpy Array (second point)\n",
    "\n",
    "    Returns:\n",
    "    --------\n",
    "    Euclidean distance between the points. \n",
    "    \"\"\"\n",
    "    return np.sqrt(np.sum((p-q)**2))\n",
    "\n"
   ]
  },
  {
   "cell_type": "markdown",
   "id": "deacc5c1",
   "metadata": {},
   "source": [
    "Mouthdistance, No. 0:"
   ]
  },
  {
   "cell_type": "code",
   "execution_count": 11,
   "id": "98dbce9b",
   "metadata": {},
   "outputs": [
    {
     "name": "stdout",
     "output_type": "stream",
     "text": [
      "4834\n"
     ]
    }
   ],
   "source": [
    "ff0_ = []\n",
    "for i in range(0, len(df)):\n",
    "    q = np.array([df[i][63*2-2], df[i][63*2-1]])\n",
    "    p = np.array([df[i][67*2-2], df[i][67*2-1]])\n",
    "    ff0 = eucdist(q, p)\n",
    "    ff0_.append(ff0)\n",
    "ff0_ = pd.DataFrame(ff0_)\n",
    "print(len(ff0_))"
   ]
  },
  {
   "cell_type": "markdown",
   "id": "23e71a2d",
   "metadata": {},
   "source": [
    "Headwidth, No. 10:"
   ]
  },
  {
   "cell_type": "code",
   "execution_count": 12,
   "id": "8ce5a8be",
   "metadata": {},
   "outputs": [
    {
     "name": "stdout",
     "output_type": "stream",
     "text": [
      "4834\n"
     ]
    }
   ],
   "source": [
    "ff10_ = []\n",
    "for i in range(0, len(df)):\n",
    "    q = np.array([df[i][1*2-2], df[i][1*2-1]])\n",
    "    p = np.array([df[i][17*2-2], df[i][17*2-1]])\n",
    "    ff10 = eucdist(q, p)\n",
    "    ff10_.append(ff10)\n",
    "ff10_ = pd.DataFrame(ff10_)\n",
    "print(len(ff10_))"
   ]
  },
  {
   "cell_type": "markdown",
   "id": "e5574ff4",
   "metadata": {},
   "source": [
    "Mouth nose distance, No. 8:"
   ]
  },
  {
   "cell_type": "code",
   "execution_count": 13,
   "id": "c2de48f5",
   "metadata": {},
   "outputs": [
    {
     "name": "stdout",
     "output_type": "stream",
     "text": [
      "4834\n"
     ]
    }
   ],
   "source": [
    "ff8_ = []\n",
    "for k in range(0, len(df)):\n",
    "    q = np.array([df[k][34*2-2], df[k][34*2-1]])\n",
    "    p = np.array([df[k][52*2-2], df[k][52*2-1]])\n",
    "    ff8 = eucdist(q, p)\n",
    "    ff8_.append(ff8)\n",
    "ff8_ = pd.DataFrame(ff8_)\n",
    "print(len(ff8_))"
   ]
  },
  {
   "cell_type": "markdown",
   "id": "710c66ed",
   "metadata": {},
   "source": [
    "Mouth chin distance, No. 9:"
   ]
  },
  {
   "cell_type": "code",
   "execution_count": 14,
   "id": "f8d12384",
   "metadata": {},
   "outputs": [
    {
     "name": "stdout",
     "output_type": "stream",
     "text": [
      "4834\n"
     ]
    }
   ],
   "source": [
    "ff9_ = []\n",
    "for k in range(0, len(df)):\n",
    "    q = np.array([df[k][9*2-2], df[k][9*2-1]])\n",
    "    p = np.array([df[k][58*2-2], df[k][58*2-1]])\n",
    "    ff9 = eucdist(q, p)\n",
    "    ff9_.append(ff9)\n",
    "ff9_ = pd.DataFrame(ff9_)\n",
    "print(len(ff9_))"
   ]
  },
  {
   "cell_type": "markdown",
   "id": "e89d1320",
   "metadata": {},
   "source": [
    "Eye eyelash distance right, No. 4:"
   ]
  },
  {
   "cell_type": "code",
   "execution_count": 15,
   "id": "67a475ee",
   "metadata": {},
   "outputs": [
    {
     "name": "stdout",
     "output_type": "stream",
     "text": [
      "4834\n"
     ]
    }
   ],
   "source": [
    "ff4_ = []\n",
    "for k in range(0, len(df)):\n",
    "    q = np.array([df[k][37*2-2], df[k][37*2-1]])\n",
    "    p = np.array([df[k][18*2-2], df[k][18*2-1]])\n",
    "    q1 = np.array([df[k][19*2-2], df[k][19*2-1]])\n",
    "    p1 = np.array([df[k][38*2-2], df[k][38*2-1]])\n",
    "    q2 = np.array([df[k][39*2-2], df[k][39*2-1]])\n",
    "    p2 = np.array([df[k][21*2-2], df[k][21*2-1]])\n",
    "    q3 = np.array([df[k][40*2-2], df[k][40*2-1]])\n",
    "    p3 = np.array([df[k][22*2-2], df[k][22*2-1]])\n",
    "    ff4 = 0.25*(eucdist(q, p)+eucdist(q1, p1)+eucdist(q2, p2)+eucdist(q3, p3))\n",
    "    ff4_.append(ff4)\n",
    "ff4_ = pd.DataFrame(ff4_)\n",
    "print(len(ff4_))"
   ]
  },
  {
   "cell_type": "markdown",
   "id": "a64be529",
   "metadata": {},
   "source": [
    "Eye eyelash distance left, No. 5:"
   ]
  },
  {
   "cell_type": "code",
   "execution_count": 16,
   "id": "b5383e1d",
   "metadata": {},
   "outputs": [
    {
     "name": "stdout",
     "output_type": "stream",
     "text": [
      "4834\n"
     ]
    }
   ],
   "source": [
    "ff5_ = []\n",
    "for k in range(0, len(df)):\n",
    "    q = np.array([df[k][23*2-2], df[k][23*2-1]])\n",
    "    p = np.array([df[k][43*2-2], df[k][43*2-1]])\n",
    "    q1 = np.array([df[k][44*2-2], df[k][44*2-1]])\n",
    "    p1 = np.array([df[k][24*2-2], df[k][24*2-1]])\n",
    "    q2 = np.array([df[k][45*2-2], df[k][45*2-1]])\n",
    "    p2 = np.array([df[k][26*2-2], df[k][26*2-1]])\n",
    "    q3 = np.array([df[k][46*2-2], df[k][46*2-1]])\n",
    "    p3 = np.array([df[k][27*2-2], df[k][27*2-1]])\n",
    "    ff5 = 0.25*(eucdist(q, p)+eucdist(q1, p1)+eucdist(q2, p2)+eucdist(q3, p3))\n",
    "    ff5_.append(ff5)\n",
    "ff5_ = pd.DataFrame(ff5_)\n",
    "print(len(ff5_))"
   ]
  },
  {
   "cell_type": "markdown",
   "id": "742a3a98",
   "metadata": {},
   "source": [
    "Nose height, No.6:"
   ]
  },
  {
   "cell_type": "code",
   "execution_count": 17,
   "id": "a7318b7b",
   "metadata": {},
   "outputs": [
    {
     "name": "stdout",
     "output_type": "stream",
     "text": [
      "4834\n"
     ]
    }
   ],
   "source": [
    "ff6_ = []\n",
    "for k in range(0, len(df)):\n",
    "    q = np.array([df[k][28*2-2], df[k][28*2-1]])\n",
    "    q1 = np.array([df[k][29*2-2], df[k][29*2-1]])\n",
    "    q2 = np.array([df[k][30*2-2], df[k][30*2-1]])\n",
    "    q3 = np.array([df[k][31*2-2], df[k][31*2-1]])\n",
    "    q4 = np.array([df[k][34*2-2], df[k][34*2-1]])\n",
    "    ff6 =(eucdist(q, q1)+eucdist(q1, q2)+eucdist(q2, q3)+eucdist(q3, q4))\n",
    "    ff6_.append(ff6)\n",
    "ff6_ = pd.DataFrame(ff6_)\n",
    "print(len(ff6_))"
   ]
  },
  {
   "cell_type": "markdown",
   "id": "ddf79fa3",
   "metadata": {},
   "source": [
    "Nose width, No.7:"
   ]
  },
  {
   "cell_type": "code",
   "execution_count": 18,
   "id": "46cccacd",
   "metadata": {},
   "outputs": [
    {
     "name": "stdout",
     "output_type": "stream",
     "text": [
      "4834\n"
     ]
    }
   ],
   "source": [
    "ff7_ = []\n",
    "for k in range(0, len(df)):\n",
    "    q = np.array([df[k][32*2-2], df[k][32*2-1]])\n",
    "    q1 = np.array([df[k][33*2-2], df[k][33*2-1]])\n",
    "    q2 = np.array([df[k][34*2-2], df[k][34*2-1]])\n",
    "    q3 = np.array([df[k][35*2-2], df[k][35*2-1]])\n",
    "    q4 = np.array([df[k][36*2-2], df[k][36*2-1]])\n",
    "    ff7 =(eucdist(q, q1)+eucdist(q1, q2)+eucdist(q2, q3)+eucdist(q3, q4))\n",
    "    ff7_.append(ff7)\n",
    "ff7_ = pd.DataFrame(ff7_)\n",
    "print(len(ff7_))"
   ]
  },
  {
   "cell_type": "markdown",
   "id": "5c35793f",
   "metadata": {},
   "source": [
    "Shoelace formula to determine the area of a polygon:"
   ]
  },
  {
   "cell_type": "code",
   "execution_count": 20,
   "id": "b28f8c7f",
   "metadata": {},
   "outputs": [],
   "source": [
    "def polyarea(vertices):\n",
    "    \"\"\"\n",
    "    Calculates the area of a simple polygon by using the Shoelace formula.\n",
    "\n",
    "    Args:\n",
    "        vertices: A list of tupels or lists which represent the corners of the polygon, sorted in positive or negative direction\n",
    "\n",
    "    Returns:\n",
    "        Area of the simple polygon\n",
    "    \"\"\"\n",
    "    n = len(vertices)\n",
    "    if n < 3:\n",
    "        return 0  # At least three points for an area!\n",
    "\n",
    "    area = 0.0\n",
    "    for i in range(n):\n",
    "        j = (i + 1) % n\n",
    "        area += vertices[i][0] * vertices[j][1]\n",
    "        area -= vertices[j][0] * vertices[i][1]\n",
    "    return abs(area) / 2.0"
   ]
  },
  {
   "cell_type": "markdown",
   "id": "233aa7f3",
   "metadata": {},
   "source": [
    "Just to see that it works:"
   ]
  },
  {
   "cell_type": "code",
   "execution_count": 21,
   "id": "e5a684db",
   "metadata": {},
   "outputs": [
    {
     "data": {
      "text/plain": [
       "8.0"
      ]
     },
     "execution_count": 21,
     "metadata": {},
     "output_type": "execute_result"
    }
   ],
   "source": [
    "polyarea([(0,0),(2,0),(2,8)])"
   ]
  },
  {
   "cell_type": "markdown",
   "id": "83850b55",
   "metadata": {},
   "source": [
    "---"
   ]
  },
  {
   "cell_type": "markdown",
   "id": "806e43fd",
   "metadata": {},
   "source": [
    "Eye area right, No.1:"
   ]
  },
  {
   "cell_type": "code",
   "execution_count": 23,
   "id": "65ee5280",
   "metadata": {},
   "outputs": [
    {
     "name": "stdout",
     "output_type": "stream",
     "text": [
      "4834\n"
     ]
    }
   ],
   "source": [
    "ff1_ = []\n",
    "for k in range(0, len(df)):\n",
    "    q = (df[k][37*2-2], df[k][37*2-1])\n",
    "    q1 = (df[k][38*2-2], df[k][38*2-1])\n",
    "    q2 = (df[k][39*2-2], df[k][39*2-1])\n",
    "    q3 = (df[k][40*2-2], df[k][40*2-1])\n",
    "    q4 = (df[k][41*2-2], df[k][41*2-1])\n",
    "    q5 = (df[k][42*2-2], df[k][42*2-1])\n",
    "    ff1 = polyarea([q,q1,q2,q3,q4,q5])\n",
    "    ff1_.append(ff1)\n",
    "ff1_ = pd.DataFrame(ff1_)\n",
    "print(len(ff1_))"
   ]
  },
  {
   "cell_type": "markdown",
   "id": "174afed2",
   "metadata": {},
   "source": [
    "Eye area left, No.2:"
   ]
  },
  {
   "cell_type": "code",
   "execution_count": 24,
   "id": "430a95ee",
   "metadata": {},
   "outputs": [
    {
     "name": "stdout",
     "output_type": "stream",
     "text": [
      "4834\n"
     ]
    }
   ],
   "source": [
    "ff2_ = []\n",
    "for k in range(0, len(df)):\n",
    "    q = (df[k][43*2-2], df[k][43*2-1])\n",
    "    q1 = (df[k][44*2-2], df[k][44*2-1])\n",
    "    q2 = (df[k][45*2-2], df[k][45*2-1])\n",
    "    q3 = (df[k][46*2-2], df[k][46*2-1])\n",
    "    q4 = (df[k][47*2-2], df[k][47*2-1])\n",
    "    q5 = (df[k][48*2-2], df[k][48*2-1])\n",
    "    ff2 = polyarea([q,q1,q2,q3,q4,q5])\n",
    "    ff2_.append(ff2)\n",
    "ff2_ = pd.DataFrame(ff2_)\n",
    "print(len(ff2_))"
   ]
  },
  {
   "cell_type": "markdown",
   "id": "7f78ca64",
   "metadata": {},
   "source": [
    "Mouth area, No.3:"
   ]
  },
  {
   "cell_type": "code",
   "execution_count": 25,
   "id": "0b0e8ee1",
   "metadata": {},
   "outputs": [
    {
     "name": "stdout",
     "output_type": "stream",
     "text": [
      "4834\n"
     ]
    }
   ],
   "source": [
    "ff3_ = []\n",
    "for k in range(0, len(df)):\n",
    "    q = (df[k][49*2-2], df[k][49*2-1])\n",
    "    q1 = (df[k][50*2-2], df[k][50*2-1])\n",
    "    q2 = (df[k][51*2-2], df[k][51*2-1])\n",
    "    q3 = (df[k][52*2-2], df[k][52*2-1])\n",
    "    q4 = (df[k][53*2-2], df[k][53*2-1])\n",
    "    q5 = (df[k][54*2-2], df[k][54*2-1])\n",
    "    p = (df[k][55*2-2], df[k][55*2-1])\n",
    "    p1 = (df[k][56*2-2], df[k][56*2-1])\n",
    "    p2 = (df[k][57*2-2], df[k][57*2-1])\n",
    "    p3 = (df[k][58*2-2], df[k][58*2-1])\n",
    "    p4 = (df[k][59*2-2], df[k][59*2-1])\n",
    "    p5 = (df[k][60*2-2], df[k][60*2-1])\n",
    "    ff3 = polyarea([q,q1,q2,q3,q4,q5,p,p1,p2,p3,p4,p5])\n",
    "    ff3_.append(ff3)\n",
    "ff3_ = pd.DataFrame(ff3_)\n",
    "print(len(ff3_))"
   ]
  },
  {
   "cell_type": "markdown",
   "id": "18bcc6a1",
   "metadata": {},
   "source": [
    "Mouth area eye area ratio, No.11:"
   ]
  },
  {
   "cell_type": "code",
   "execution_count": 26,
   "id": "a19bbedb",
   "metadata": {},
   "outputs": [
    {
     "name": "stdout",
     "output_type": "stream",
     "text": [
      "4834\n"
     ]
    }
   ],
   "source": [
    "ff11_ = []\n",
    "for k in range(0, len(df)):\n",
    "    ff11_.append((ff1_[0][k] + ff2_[0][k])/ff3_[0][k] )\n",
    "ff11_ = pd.DataFrame(ff11_)\n",
    "print (len(ff11_))"
   ]
  },
  {
   "cell_type": "markdown",
   "id": "51e19efd",
   "metadata": {},
   "source": [
    "Left right eye ratio, No.12:"
   ]
  },
  {
   "cell_type": "code",
   "execution_count": 27,
   "id": "03e1a66a",
   "metadata": {},
   "outputs": [
    {
     "name": "stdout",
     "output_type": "stream",
     "text": [
      "4834\n"
     ]
    }
   ],
   "source": [
    "ff12_ = []\n",
    "for k in range(0, len(df)):\n",
    "    ff12_.append(ff4_[0][k]/ff5_[0][k])\n",
    "ff12_ = pd.DataFrame(ff12_)\n",
    "print (len(ff12_))\n"
   ]
  },
  {
   "cell_type": "markdown",
   "id": "47e29a89",
   "metadata": {},
   "source": [
    "Determining angles by using the cosine law:"
   ]
  },
  {
   "cell_type": "markdown",
   "id": "8fea3ad3",
   "metadata": {},
   "source": [
    "Angle mouth chin, No. 13:"
   ]
  },
  {
   "cell_type": "code",
   "execution_count": 28,
   "id": "50edae1b",
   "metadata": {},
   "outputs": [
    {
     "name": "stdout",
     "output_type": "stream",
     "text": [
      "4834\n"
     ]
    }
   ],
   "source": [
    "ff13_ = []\n",
    "for k in range(0, len(df)):\n",
    "    #Build vectors\n",
    "    v1 = (df[k][49*2-2]-df[k][9*2-2], df[k][49*2-1]-df[k][9*2-1])\n",
    "    v2 = (df[k][55*2-2]-df[k][9*2-2], df[k][55*2-1]-df[k][9*2-1])\n",
    "    #Calculate cosine of the angle:\n",
    "    cos_al = np.dot(v1,v2)/(np.linalg.norm(v1)*np.linalg.norm(v2)) \n",
    "    ff13 = np.degrees(np.arccos(cos_al))\n",
    "    ff13_.append(ff13)\n",
    "ff13_ = pd.DataFrame(ff13_)\n",
    "print (len(ff13_))"
   ]
  },
  {
   "cell_type": "markdown",
   "id": "70a7eb5f",
   "metadata": {},
   "source": [
    "Eyes nose angle, No. 14:"
   ]
  },
  {
   "cell_type": "code",
   "execution_count": 29,
   "id": "5aedbb82",
   "metadata": {},
   "outputs": [
    {
     "name": "stdout",
     "output_type": "stream",
     "text": [
      "4834\n"
     ]
    }
   ],
   "source": [
    "ff14_ = []\n",
    "for k in range(0, len(df)):\n",
    "    #Build vectors\n",
    "    v1 = (df[k][37*2-2]-df[k][34*2-2], df[k][37*2-1]-df[k][34*2-1])\n",
    "    v2 = (df[k][46*2-2]-df[k][34*2-2], df[k][46*2-1]-df[k][34*2-1])\n",
    "    #Calculate cosine of the angle:\n",
    "    cos_al = np.dot(v1,v2)/(np.linalg.norm(v1)*np.linalg.norm(v2)) \n",
    "    ff14 = np.degrees(np.arccos(cos_al))\n",
    "    ff14_.append(ff14)\n",
    "ff14_ = pd.DataFrame(ff14_)\n",
    "print (len(ff14_))"
   ]
  },
  {
   "cell_type": "markdown",
   "id": "7155d09f",
   "metadata": {},
   "source": [
    "---"
   ]
  },
  {
   "cell_type": "markdown",
   "id": "45a35436",
   "metadata": {},
   "source": [
    "Building up the final csv file with all extracted facial features:"
   ]
  },
  {
   "cell_type": "code",
   "execution_count": 30,
   "id": "160b1313",
   "metadata": {},
   "outputs": [],
   "source": [
    "classcolumn = pd.DataFrame(df[0:, 136])\n",
    "data = [ff0_, ff1_,ff2_, ff3_, ff4_, ff5_,ff6_, ff7_, ff8_, ff9_, ff10_, ff11_, ff12_, ff13_, ff14_, classcolumn]\n",
    "df_all = pd.concat(data, axis =1)"
   ]
  },
  {
   "cell_type": "code",
   "execution_count": null,
   "id": "03e3bdba",
   "metadata": {},
   "outputs": [],
   "source": [
    "df_all.to_csv('finaltestdata.csv', index=False, header = False) #Generates a file automatically!"
   ]
  },
  {
   "cell_type": "markdown",
   "id": "4b576853",
   "metadata": {},
   "source": [
    "---"
   ]
  }
 ],
 "metadata": {
  "kernelspec": {
   "display_name": "applied_ml",
   "language": "python",
   "name": "python3"
  },
  "language_info": {
   "codemirror_mode": {
    "name": "ipython",
    "version": 3
   },
   "file_extension": ".py",
   "mimetype": "text/x-python",
   "name": "python",
   "nbconvert_exporter": "python",
   "pygments_lexer": "ipython3",
   "version": "3.10.16"
  }
 },
 "nbformat": 4,
 "nbformat_minor": 5
}
