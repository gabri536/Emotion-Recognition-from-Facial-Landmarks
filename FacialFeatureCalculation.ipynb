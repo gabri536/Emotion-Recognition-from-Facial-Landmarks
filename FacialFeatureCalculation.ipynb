{
 "cells": [
  {
   "cell_type": "code",
   "execution_count": 1,
   "id": "ea7c4a07",
   "metadata": {},
   "outputs": [],
   "source": [
    "import os\n",
    "import numpy as np\n",
    "import pandas as pd\n",
    "import csv"
   ]
  },
  {
   "cell_type": "code",
   "execution_count": 2,
   "id": "5cb6e748",
   "metadata": {},
   "outputs": [
    {
     "name": "stdout",
     "output_type": "stream",
     "text": [
      "<class 'pandas.core.frame.DataFrame'>\n",
      "<class 'numpy.ndarray'>\n",
      "[[ 97 165  90 ... 212 364   0]\n",
      " [ 87 244  88 ... 189 385   0]\n",
      " [ 86 197  84 ... 203 422   0]\n",
      " ...\n",
      " [ 17 201  13 ... 219 371   0]\n",
      " [ 61 204  70 ... 227 372   0]\n",
      " [ 90 164  76 ... 107 378   0]]\n",
      "137\n"
     ]
    }
   ],
   "source": [
    "df = pd.read_csv(r'C:\\Users\\Maximilian\\Documents\\Applied in Paython\\Emotion-Recognition-from-Facial-Landmarks\\train_0.csv', index_col=None, header = None)\n",
    "print(type(df))\n",
    "df = df.to_numpy()\n",
    "print(type(df))\n",
    "print(df)\n",
    "print(len(df[0]))"
   ]
  },
  {
   "cell_type": "markdown",
   "id": "a4e4b855",
   "metadata": {},
   "source": [
    "Making single csv files and eliminating doubled lines:\n"
   ]
  },
  {
   "cell_type": "code",
   "execution_count": 9,
   "id": "58227a22",
   "metadata": {},
   "outputs": [],
   "source": [
    "def entferne_doppelte_zeilen(input_csv, output_csv):\n",
    "    \"\"\"\n",
    "    Entfernt doppelte Zeilen aus einer CSV-Datei.\n",
    "\n",
    "    Args:\n",
    "        input_csv: Pfad zur Eingabe-CSV-Datei.\n",
    "        output_csv: Pfad zur Ausgabedatei, in die die eindeutigen Zeilen geschrieben werden.\n",
    "    \"\"\"\n",
    "    unique_rows = set()\n",
    "    with open(input_csv, 'r', newline='', encoding='utf-8') as infile:\n",
    "        reader = csv.reader(infile)\n",
    "        # Kopfzeile überspringen\n",
    "        header = next(reader, None)\n",
    "        for row in reader:\n",
    "            # Konvertiere die Zeile in einen String, um sie als Schlüssel in das Set aufzunehmen\n",
    "            row_str = ','.join(row)\n",
    "            unique_rows.add(row_str)\n",
    "\n",
    "    with open(output_csv, 'w', newline='', encoding='utf-8') as outfile:\n",
    "        writer = csv.writer(outfile)\n",
    "        # Schreibe die Kopfzeile zurück, falls vorhanden\n",
    "        #if header:\n",
    "         #   writer.writerow(header)\n",
    "        for row_str in unique_rows:\n",
    "            row = row_str.split(',')\n",
    "            writer.writerow(row)\n",
    "\n",
    "# Beispielaufruf\n",
    "input_file = r'C:\\Users\\Maximilian\\Documents\\Applied in Paython\\Emotion-Recognition-from-Facial-Landmarks\\test_images_0.csv'\n",
    "output_file = 'test_0.csv'\n",
    "entferne_doppelte_zeilen(input_file, output_file)"
   ]
  },
  {
   "cell_type": "code",
   "execution_count": null,
   "id": "c7b7a6a1",
   "metadata": {},
   "outputs": [
    {
     "name": "stdout",
     "output_type": "stream",
     "text": [
      "543\n",
      "672\n",
      "905\n",
      "1354\n",
      "640\n",
      "77\n",
      "643\n",
      "Das macht 4834 !\n",
      "     0    1    2    3    4    5    6    7    8    9    ...  127  128  129  \\\n",
      "0     77   48   80   98   92  147  105  194  122  238  ...  248  319  252   \n",
      "1     40  215   50  272   66  327   83  376  107  421  ...  411  336  408   \n",
      "2     65  222   62  268   61  315   61  365   70  412  ...  383  290  412   \n",
      "3     30  214   31  267   40  324   55  374   82  420  ...  422  318  440   \n",
      "4     57  218   61  272   70  325   83  378  100  427  ...  396  318  421   \n",
      "..   ...  ...  ...  ...  ...  ...  ...  ...  ...  ...  ...  ...  ...  ...   \n",
      "538   18  199   25  255   33  312   47  366   69  416  ...  389  333  394   \n",
      "539    5  198   12  258   22  315   40  365   73  409  ...  350  302  372   \n",
      "540   86  235   90  281  100  324  121  363  145  403  ...  366  343  363   \n",
      "541   88  213   97  256  110  297  124  337  142  373  ...  353  322  361   \n",
      "542   43  199   47  254   59  311   76  364  100  413  ...  414  312  401   \n",
      "\n",
      "     130  131  132  133  134  135  136  \n",
      "0    266  291  246  294  225  290    6  \n",
      "1    283  445  257  452  233  450    6  \n",
      "2    233  414  215  412  198  409    6  \n",
      "3    284  461  262  465  242  461    6  \n",
      "4    277  439  254  440  231  437    6  \n",
      "..   ...  ...  ...  ...  ...  ...  ...  \n",
      "538  299  400  277  404  255  402    6  \n",
      "539  267  411  248  414  229  411    6  \n",
      "540  281  418  260  422  238  420    6  \n",
      "541  288  375  272  377  256  376    6  \n",
      "542  278  388  259  392  243  391    6  \n",
      "\n",
      "[543 rows x 137 columns]\n"
     ]
    }
   ],
   "source": [
    "df6 = pd.read_csv(r'C:\\Users\\Maximilian\\Documents\\Applied in Paython\\Emotion-Recognition-from-Facial-Landmarks\\test_6.csv', header = None)\n",
    "print(len(df6))\n",
    "df5 = pd.read_csv(r'C:\\Users\\Maximilian\\Documents\\Applied in Paython\\Emotion-Recognition-from-Facial-Landmarks\\test_5.csv', header = None)\n",
    "print(len(df5))\n",
    "df4 = pd.read_csv(r'C:\\Users\\Maximilian\\Documents\\Applied in Paython\\Emotion-Recognition-from-Facial-Landmarks\\test_4.csv', header = None)\n",
    "print(len(df4))\n",
    "df3 = pd.read_csv(r'C:\\Users\\Maximilian\\Documents\\Applied in Paython\\Emotion-Recognition-from-Facial-Landmarks\\test_3.csv', header = None)\n",
    "print(len(df3))\n",
    "df2 = pd.read_csv(r'C:\\Users\\Maximilian\\Documents\\Applied in Paython\\Emotion-Recognition-from-Facial-Landmarks\\test_2.csv', header = None)\n",
    "print(len(df2))\n",
    "df1 = pd.read_csv(r'C:\\Users\\Maximilian\\Documents\\Applied in Paython\\Emotion-Recognition-from-Facial-Landmarks\\test_1.csv', header = None)\n",
    "print(len(df1))\n",
    "df0 = pd.read_csv(r'C:\\Users\\Maximilian\\Documents\\Applied in Paython\\Emotion-Recognition-from-Facial-Landmarks\\test_0.csv', header = None)\n",
    "print(len(df0))\n",
    "print('Das macht', len(df0)+len(df1)+len(df2)+len(df3)+len(df4)+len(df5)+len(df6), '!')"
   ]
  },
  {
   "cell_type": "code",
   "execution_count": 11,
   "id": "ddb7334b",
   "metadata": {},
   "outputs": [
    {
     "name": "stdout",
     "output_type": "stream",
     "text": [
      "     0    1    2    3    4    5    6    7    8    9    ...  127  128  129  \\\n",
      "0     -3  120   15  193   32  265   55  331   94  390  ...  373  387  360   \n",
      "1     84  194   86  238   92  282  101  325  116  367  ...  377  309  381   \n",
      "2     55  130   61  193   69  256   82  316  104  371  ...  355  335  364   \n",
      "3     27  233   50  298   71  355   97  406  132  452  ...  386  392  378   \n",
      "4     55  178   53  235   56  293   61  348   76  399  ...  387  316  388   \n",
      "..   ...  ...  ...  ...  ...  ...  ...  ...  ...  ...  ...  ...  ...  ...   \n",
      "538   18  199   25  255   33  312   47  366   69  416  ...  389  333  394   \n",
      "539    5  198   12  258   22  315   40  365   73  409  ...  350  302  372   \n",
      "540   86  235   90  281  100  324  121  363  145  403  ...  366  343  363   \n",
      "541   88  213   97  256  110  297  124  337  142  373  ...  353  322  361   \n",
      "542   43  199   47  254   59  311   76  364  100  413  ...  414  312  401   \n",
      "\n",
      "     130  131  132  133  134  135  136  \n",
      "0    315  452  282  463  254  461    0  \n",
      "1    271  362  253  363  234  360    0  \n",
      "2    290  437  262  442  234  434    0  \n",
      "3    334  414  309  426  278  430    0  \n",
      "4    265  419  241  422  219  415    0  \n",
      "..   ...  ...  ...  ...  ...  ...  ...  \n",
      "538  299  400  277  404  255  402    6  \n",
      "539  267  411  248  414  229  411    6  \n",
      "540  281  418  260  422  238  420    6  \n",
      "541  288  375  272  377  256  376    6  \n",
      "542  278  388  259  392  243  391    6  \n",
      "\n",
      "[4834 rows x 137 columns]\n"
     ]
    }
   ],
   "source": [
    "data = [df0, df1,df2, df3, df4, df5,df6]\n",
    "df_all = pd.concat(data, axis =0)\n",
    "print(df_all)"
   ]
  },
  {
   "cell_type": "code",
   "execution_count": 12,
   "id": "3a81ac9b",
   "metadata": {},
   "outputs": [],
   "source": [
    "df_all.to_csv('finaltest.csv', index=False, header = False)"
   ]
  },
  {
   "cell_type": "markdown",
   "id": "7187e75a",
   "metadata": {},
   "source": [
    "---"
   ]
  },
  {
   "cell_type": "markdown",
   "id": "a979f1b8",
   "metadata": {},
   "source": [
    "Now some facial features based on the extracted facial landmarks shall be designed and determined: \n",
    "\n",
    "| Number | facial feature | used landmarks | computation |\n",
    "| --- | --- | --- | --- | \n",
    "| 0 | Mouth distance | 63, 67 | abs(63-67)|\n",
    "| 1 | Eye area right| 37,38,39,40,41,42 | A(...) |\n",
    "| 2 | Eye area left | 43,44,45,46,47,48 | A(...) |\n",
    "| 3 | Mouth area| 49,50,51,52,53,54,55,56,57,58,59,60 | A(...) |\n",
    "| 4 | Eye eyelash distance right | 37,18,19,38,39,21,40,22 | (1\\4)*(abs(37-18)+abs(19-38)+abs(39-21)+abs(40-22))|\n",
    "| 5 | Eye eyelash distance left| 23,43,44,24,45,26,46,27 | (1\\4)*(abs(23-43)+abs(44-24)+abs(45-26)+abs(46-27))|\n",
    "| 6 | Nose Height| 28,29,30,31,34| abs(28-29)+abs(29-30)+abs(30-31)+abs(31-34) |\n",
    "| 7 | Nose Width| 32,33,34,35,36 | abs(32-33)+abs(33-34)+abs(34-35)+abs(35-36)|\n",
    "| 8 | Mouth nose distance| 34, 52| abs(34-52)|\n",
    "| 9 | Mouth chin distance| 9, 58| abs(9-58)|\n",
    "| 10 | Head width| 1, 17| abs(1-17)|\n",
    "| 11 | Mouth area Eye area ratio| | (category(2) + category(3) / category(4))|\n",
    "| 12 | Left-Right-Eye Ratio| | catgory(5)/category(6)|\n",
    "| 13 | Mouth-Chin-angle| 49, 9, 55| angle(49, 9, 55)|\n",
    "| 14 | Eyes-Nose-angle| 37, 34, 46| angle(37, 34, 46)|\n"
   ]
  },
  {
   "cell_type": "markdown",
   "id": "e15cc417",
   "metadata": {},
   "source": [
    "---"
   ]
  },
  {
   "cell_type": "code",
   "execution_count": 13,
   "id": "5bf9d742",
   "metadata": {},
   "outputs": [
    {
     "name": "stdout",
     "output_type": "stream",
     "text": [
      "<class 'pandas.core.frame.DataFrame'>\n",
      "<class 'numpy.ndarray'>\n",
      "[[ -3 120  15 ... 254 461   0]\n",
      " [ 84 194  86 ... 234 360   0]\n",
      " [ 55 130  61 ... 234 434   0]\n",
      " ...\n",
      " [ 86 235  90 ... 238 420   6]\n",
      " [ 88 213  97 ... 256 376   6]\n",
      " [ 43 199  47 ... 243 391   6]]\n",
      "137\n"
     ]
    }
   ],
   "source": [
    "df = pd.read_csv(r'C:\\Users\\Maximilian\\Documents\\Applied in Paython\\Emotion-Recognition-from-Facial-Landmarks\\finaltest.csv', index_col=None, header = None)\n",
    "print(type(df))\n",
    "df = df.to_numpy()\n",
    "print(type(df))\n",
    "print(df)\n",
    "print(len(df[0]))"
   ]
  },
  {
   "cell_type": "code",
   "execution_count": 14,
   "id": "29ad16a3",
   "metadata": {},
   "outputs": [],
   "source": [
    "def eucdist(p,q):\n",
    "    \"\"\"\n",
    "    Calculates the euclidean distance.\n",
    "\n",
    "    Arguments:\n",
    "    ----------\n",
    "     p: Numpy Array (first point)\n",
    "     q: Numpy Array (second point)\n",
    "\n",
    "    Returns:\n",
    "    --------\n",
    "    Euclidean distance between the points. \n",
    "    \"\"\"\n",
    "    return np.sqrt(np.sum((p-q)**2))\n",
    "\n"
   ]
  },
  {
   "cell_type": "markdown",
   "id": "deacc5c1",
   "metadata": {},
   "source": [
    "Mouthdistance, No. 0:"
   ]
  },
  {
   "cell_type": "code",
   "execution_count": 15,
   "id": "98dbce9b",
   "metadata": {},
   "outputs": [
    {
     "name": "stdout",
     "output_type": "stream",
     "text": [
      "4834               0\n",
      "0     82.000000\n",
      "1     15.000000\n",
      "2     83.000000\n",
      "3     30.805844\n",
      "4     35.000000\n",
      "...         ...\n",
      "4829  12.041595\n",
      "4830  64.070274\n",
      "4831  52.345009\n",
      "4832  22.022716\n",
      "4833  25.000000\n",
      "\n",
      "[4834 rows x 1 columns]\n"
     ]
    }
   ],
   "source": [
    "ff0_ = []\n",
    "for i in range(0, len(df)):\n",
    "    q = np.array([df[i][63*2-2], df[i][63*2-1]])\n",
    "    p = np.array([df[i][67*2-2], df[i][67*2-1]])\n",
    "    ff0 = eucdist(q, p)\n",
    "    ff0_.append(ff0)\n",
    "ff0_ = pd.DataFrame(ff0_)\n",
    "print(len(ff0_), ff0_)"
   ]
  },
  {
   "cell_type": "markdown",
   "id": "23e71a2d",
   "metadata": {},
   "source": [
    "Headwidth, No. 10:"
   ]
  },
  {
   "cell_type": "code",
   "execution_count": 16,
   "id": "8ce5a8be",
   "metadata": {},
   "outputs": [
    {
     "name": "stdout",
     "output_type": "stream",
     "text": [
      "4834                0\n",
      "0     505.284079\n",
      "1     364.137337\n",
      "2     420.233269\n",
      "3     472.969344\n",
      "4     381.996073\n",
      "...          ...\n",
      "4829  430.029069\n",
      "4830  394.001269\n",
      "4831  351.647551\n",
      "4832  374.370138\n",
      "4833  410.537453\n",
      "\n",
      "[4834 rows x 1 columns]\n"
     ]
    }
   ],
   "source": [
    "ff10_ = []\n",
    "for i in range(0, len(df)):\n",
    "    q = np.array([df[i][1*2-2], df[i][1*2-1]])\n",
    "    p = np.array([df[i][17*2-2], df[i][17*2-1]])\n",
    "    ff10 = eucdist(q, p)\n",
    "    ff10_.append(ff10)\n",
    "ff10_ = pd.DataFrame(ff10_)\n",
    "print(len(ff10_), ff10_)"
   ]
  },
  {
   "cell_type": "markdown",
   "id": "e5574ff4",
   "metadata": {},
   "source": [
    "Mouth nose distance, No. 8:"
   ]
  },
  {
   "cell_type": "code",
   "execution_count": 17,
   "id": "c2de48f5",
   "metadata": {},
   "outputs": [
    {
     "name": "stdout",
     "output_type": "stream",
     "text": [
      "4834               0\n",
      "0     26.305893\n",
      "1     42.011903\n",
      "2     24.020824\n",
      "3     36.359318\n",
      "4     33.015148\n",
      "...         ...\n",
      "4829  59.000000\n",
      "4830  29.068884\n",
      "4831  26.248809\n",
      "4832  37.336309\n",
      "4833  42.011903\n",
      "\n",
      "[4834 rows x 1 columns]\n"
     ]
    }
   ],
   "source": [
    "ff8_ = []\n",
    "for k in range(0, len(df)):\n",
    "    q = np.array([df[k][34*2-2], df[k][34*2-1]])\n",
    "    p = np.array([df[k][52*2-2], df[k][52*2-1]])\n",
    "    ff8 = eucdist(q, p)\n",
    "    ff8_.append(ff8)\n",
    "ff8_ = pd.DataFrame(ff8_)\n",
    "print(len(ff8_),ff8_)"
   ]
  },
  {
   "cell_type": "markdown",
   "id": "710c66ed",
   "metadata": {},
   "source": [
    "Mouth chin distance, No. 9:"
   ]
  },
  {
   "cell_type": "code",
   "execution_count": 18,
   "id": "f8d12384",
   "metadata": {},
   "outputs": [
    {
     "name": "stdout",
     "output_type": "stream",
     "text": [
      "4834               0\n",
      "0     52.354560\n",
      "1     75.166482\n",
      "2     57.035077\n",
      "3     54.129474\n",
      "4     75.059976\n",
      "...         ...\n",
      "4829  73.824115\n",
      "4830  69.180922\n",
      "4831  62.936476\n",
      "4832  57.706152\n",
      "4833  92.439169\n",
      "\n",
      "[4834 rows x 1 columns]\n"
     ]
    }
   ],
   "source": [
    "ff9_ = []\n",
    "for k in range(0, len(df)):\n",
    "    q = np.array([df[k][9*2-2], df[k][9*2-1]])\n",
    "    p = np.array([df[k][58*2-2], df[k][58*2-1]])\n",
    "    ff9 = eucdist(q, p)\n",
    "    ff9_.append(ff9)\n",
    "ff9_ = pd.DataFrame(ff9_)\n",
    "print(len(ff9_), ff9_)"
   ]
  },
  {
   "cell_type": "markdown",
   "id": "e89d1320",
   "metadata": {},
   "source": [
    "Eye eyelash distance right, No. 4:"
   ]
  },
  {
   "cell_type": "code",
   "execution_count": 19,
   "id": "67a475ee",
   "metadata": {},
   "outputs": [
    {
     "name": "stdout",
     "output_type": "stream",
     "text": [
      "4834               0\n",
      "0     51.946708\n",
      "1     50.712792\n",
      "2     39.659682\n",
      "3     56.155777\n",
      "4     35.927589\n",
      "...         ...\n",
      "4829  55.724270\n",
      "4830  68.161018\n",
      "4831  49.383968\n",
      "4832  53.767311\n",
      "4833  60.368337\n",
      "\n",
      "[4834 rows x 1 columns]\n"
     ]
    }
   ],
   "source": [
    "ff4_ = []\n",
    "for k in range(0, len(df)):\n",
    "    q = np.array([df[k][37*2-2], df[k][37*2-1]])\n",
    "    p = np.array([df[k][18*2-2], df[k][18*2-1]])\n",
    "    q1 = np.array([df[k][19*2-2], df[k][19*2-1]])\n",
    "    p1 = np.array([df[k][38*2-2], df[k][38*2-1]])\n",
    "    q2 = np.array([df[k][39*2-2], df[k][39*2-1]])\n",
    "    p2 = np.array([df[k][21*2-2], df[k][21*2-1]])\n",
    "    q3 = np.array([df[k][40*2-2], df[k][40*2-1]])\n",
    "    p3 = np.array([df[k][22*2-2], df[k][22*2-1]])\n",
    "    ff4 = 0.25*(eucdist(q, p)+eucdist(q1, p1)+eucdist(q2, p2)+eucdist(q3, p3))\n",
    "    ff4_.append(ff4)\n",
    "ff4_ = pd.DataFrame(ff4_)\n",
    "print(len(ff4_), ff4_)"
   ]
  },
  {
   "cell_type": "markdown",
   "id": "a64be529",
   "metadata": {},
   "source": [
    "Eye eyelash distance left, No. 5:"
   ]
  },
  {
   "cell_type": "code",
   "execution_count": 20,
   "id": "b5383e1d",
   "metadata": {},
   "outputs": [
    {
     "name": "stdout",
     "output_type": "stream",
     "text": [
      "4834               0\n",
      "0     58.096597\n",
      "1     48.461249\n",
      "2     37.357342\n",
      "3     59.377501\n",
      "4     34.613154\n",
      "...         ...\n",
      "4829  52.144962\n",
      "4830  62.694956\n",
      "4831  53.543887\n",
      "4832  54.636371\n",
      "4833  59.341091\n",
      "\n",
      "[4834 rows x 1 columns]\n"
     ]
    }
   ],
   "source": [
    "ff5_ = []\n",
    "for k in range(0, len(df)):\n",
    "    q = np.array([df[k][23*2-2], df[k][23*2-1]])\n",
    "    p = np.array([df[k][43*2-2], df[k][43*2-1]])\n",
    "    q1 = np.array([df[k][44*2-2], df[k][44*2-1]])\n",
    "    p1 = np.array([df[k][24*2-2], df[k][24*2-1]])\n",
    "    q2 = np.array([df[k][45*2-2], df[k][45*2-1]])\n",
    "    p2 = np.array([df[k][26*2-2], df[k][26*2-1]])\n",
    "    q3 = np.array([df[k][46*2-2], df[k][46*2-1]])\n",
    "    p3 = np.array([df[k][27*2-2], df[k][27*2-1]])\n",
    "    ff5 = 0.25*(eucdist(q, p)+eucdist(q1, p1)+eucdist(q2, p2)+eucdist(q3, p3))\n",
    "    ff5_.append(ff5)\n",
    "ff5_ = pd.DataFrame(ff5_)\n",
    "print(len(ff5_), ff5_)"
   ]
  },
  {
   "cell_type": "markdown",
   "id": "742a3a98",
   "metadata": {},
   "source": [
    "Nose height, No.6:"
   ]
  },
  {
   "cell_type": "code",
   "execution_count": 21,
   "id": "a7318b7b",
   "metadata": {},
   "outputs": [
    {
     "name": "stdout",
     "output_type": "stream",
     "text": [
      "4834                0\n",
      "0     192.634577\n",
      "1     129.158936\n",
      "2     145.271817\n",
      "3     156.197480\n",
      "4     147.043171\n",
      "...          ...\n",
      "4829  154.237741\n",
      "4830  126.335757\n",
      "4831  129.880984\n",
      "4832  110.411160\n",
      "4833  154.193784\n",
      "\n",
      "[4834 rows x 1 columns]\n"
     ]
    }
   ],
   "source": [
    "ff6_ = []\n",
    "for k in range(0, len(df)):\n",
    "    q = np.array([df[k][28*2-2], df[k][28*2-1]])\n",
    "    q1 = np.array([df[k][29*2-2], df[k][29*2-1]])\n",
    "    q2 = np.array([df[k][30*2-2], df[k][30*2-1]])\n",
    "    q3 = np.array([df[k][31*2-2], df[k][31*2-1]])\n",
    "    q4 = np.array([df[k][34*2-2], df[k][34*2-1]])\n",
    "    ff6 =(eucdist(q, q1)+eucdist(q1, q2)+eucdist(q2, q3)+eucdist(q3, q4))\n",
    "    ff6_.append(ff6)\n",
    "ff6_ = pd.DataFrame(ff6_)\n",
    "print(len(ff6_), ff6_)"
   ]
  },
  {
   "cell_type": "markdown",
   "id": "ddf79fa3",
   "metadata": {},
   "source": [
    "Nose width, No.7:"
   ]
  },
  {
   "cell_type": "code",
   "execution_count": 22,
   "id": "46cccacd",
   "metadata": {},
   "outputs": [
    {
     "name": "stdout",
     "output_type": "stream",
     "text": [
      "4834                0\n",
      "0     129.348283\n",
      "1      69.865869\n",
      "2     105.065432\n",
      "3     115.436728\n",
      "4      99.508335\n",
      "...          ...\n",
      "4829   80.289830\n",
      "4830   80.420090\n",
      "4831   81.061477\n",
      "4832   61.737796\n",
      "4833   85.639086\n",
      "\n",
      "[4834 rows x 1 columns]\n"
     ]
    }
   ],
   "source": [
    "ff7_ = []\n",
    "for k in range(0, len(df)):\n",
    "    q = np.array([df[k][32*2-2], df[k][32*2-1]])\n",
    "    q1 = np.array([df[k][33*2-2], df[k][33*2-1]])\n",
    "    q2 = np.array([df[k][34*2-2], df[k][34*2-1]])\n",
    "    q3 = np.array([df[k][35*2-2], df[k][35*2-1]])\n",
    "    q4 = np.array([df[k][36*2-2], df[k][36*2-1]])\n",
    "    ff7 =(eucdist(q, q1)+eucdist(q1, q2)+eucdist(q2, q3)+eucdist(q3, q4))\n",
    "    ff7_.append(ff7)\n",
    "ff7_ = pd.DataFrame(ff7_)\n",
    "print(len(ff7_), ff7_)"
   ]
  },
  {
   "cell_type": "markdown",
   "id": "5c35793f",
   "metadata": {},
   "source": [
    "Shoelace formula for area of a polygon:"
   ]
  },
  {
   "cell_type": "code",
   "execution_count": 23,
   "id": "b28f8c7f",
   "metadata": {},
   "outputs": [],
   "source": [
    "def polyarea(vertices):\n",
    "    \"\"\"\n",
    "    Berechnet den Flächeninhalt eines Polygons mit der Shoelace-Formel.\n",
    "\n",
    "    Args:\n",
    "        vertices: Eine Liste von Tupeln oder Listen, die die (x, y)-Koordinaten der Eckpunkte des Polygons darstellen.\n",
    "\n",
    "    Returns:\n",
    "        Der Flächeninhalt des Polygons.\n",
    "    \"\"\"\n",
    "    n = len(vertices)\n",
    "    if n < 3:\n",
    "        return 0  # Ein Polygon benötigt mindestens 3 Eckpunkte\n",
    "\n",
    "    area = 0.0\n",
    "    for i in range(n):\n",
    "        j = (i + 1) % n\n",
    "        area += vertices[i][0] * vertices[j][1]\n",
    "        area -= vertices[j][0] * vertices[i][1]\n",
    "    return abs(area) / 2.0"
   ]
  },
  {
   "cell_type": "code",
   "execution_count": 24,
   "id": "e5a684db",
   "metadata": {},
   "outputs": [
    {
     "data": {
      "text/plain": [
       "8.0"
      ]
     },
     "execution_count": 24,
     "metadata": {},
     "output_type": "execute_result"
    }
   ],
   "source": [
    "polyarea([(0,0),(2,0),(2,8)])"
   ]
  },
  {
   "cell_type": "markdown",
   "id": "806e43fd",
   "metadata": {},
   "source": [
    "Eye area right, No.1:"
   ]
  },
  {
   "cell_type": "code",
   "execution_count": 25,
   "id": "65ee5280",
   "metadata": {},
   "outputs": [
    {
     "name": "stdout",
     "output_type": "stream",
     "text": [
      "4834            0\n",
      "0     1291.5\n",
      "1      876.0\n",
      "2      633.5\n",
      "3     1911.5\n",
      "4     1165.0\n",
      "...      ...\n",
      "4829  1867.0\n",
      "4830  1560.0\n",
      "4831  1176.0\n",
      "4832  1650.5\n",
      "4833  1420.5\n",
      "\n",
      "[4834 rows x 1 columns]\n"
     ]
    }
   ],
   "source": [
    "ff1_ = []\n",
    "for k in range(0, len(df)):\n",
    "    q = (df[k][37*2-2], df[k][37*2-1])\n",
    "    q1 = (df[k][38*2-2], df[k][38*2-1])\n",
    "    q2 = (df[k][39*2-2], df[k][39*2-1])\n",
    "    q3 = (df[k][40*2-2], df[k][40*2-1])\n",
    "    q4 = (df[k][41*2-2], df[k][41*2-1])\n",
    "    q5 = (df[k][42*2-2], df[k][42*2-1])\n",
    "    ff1 = polyarea([q,q1,q2,q3,q4,q5])\n",
    "    ff1_.append(ff1)\n",
    "ff1_ = pd.DataFrame(ff1_)\n",
    "print(len(ff1_), ff1_)"
   ]
  },
  {
   "cell_type": "markdown",
   "id": "174afed2",
   "metadata": {},
   "source": [
    "Eye area left, No.2:"
   ]
  },
  {
   "cell_type": "code",
   "execution_count": 26,
   "id": "430a95ee",
   "metadata": {},
   "outputs": [
    {
     "name": "stdout",
     "output_type": "stream",
     "text": [
      "4834            0\n",
      "0     1233.5\n",
      "1      868.5\n",
      "2      628.0\n",
      "3     1991.5\n",
      "4     1144.5\n",
      "...      ...\n",
      "4829  1846.5\n",
      "4830  1378.0\n",
      "4831  1296.0\n",
      "4832  1852.5\n",
      "4833  1350.0\n",
      "\n",
      "[4834 rows x 1 columns]\n"
     ]
    }
   ],
   "source": [
    "ff2_ = []\n",
    "for k in range(0, len(df)):\n",
    "    q = (df[k][43*2-2], df[k][43*2-1])\n",
    "    q1 = (df[k][44*2-2], df[k][44*2-1])\n",
    "    q2 = (df[k][45*2-2], df[k][45*2-1])\n",
    "    q3 = (df[k][46*2-2], df[k][46*2-1])\n",
    "    q4 = (df[k][47*2-2], df[k][47*2-1])\n",
    "    q5 = (df[k][48*2-2], df[k][48*2-1])\n",
    "    ff2 = polyarea([q,q1,q2,q3,q4,q5])\n",
    "    ff2_.append(ff2)\n",
    "ff2_ = pd.DataFrame(ff2_)\n",
    "print(len(ff2_),ff2_)"
   ]
  },
  {
   "cell_type": "markdown",
   "id": "7f78ca64",
   "metadata": {},
   "source": [
    "Mouth area, No.3:"
   ]
  },
  {
   "cell_type": "code",
   "execution_count": 27,
   "id": "0b0e8ee1",
   "metadata": {},
   "outputs": [
    {
     "name": "stdout",
     "output_type": "stream",
     "text": [
      "4834             0\n",
      "0     20222.5\n",
      "1      3393.5\n",
      "2     13984.0\n",
      "3     13420.0\n",
      "4      7926.5\n",
      "...       ...\n",
      "4829   7000.0\n",
      "4830  10321.5\n",
      "4831  10884.0\n",
      "4832   4594.5\n",
      "4833   2645.5\n",
      "\n",
      "[4834 rows x 1 columns]\n"
     ]
    }
   ],
   "source": [
    "ff3_ = []\n",
    "for k in range(0, len(df)):\n",
    "    q = (df[k][49*2-2], df[k][49*2-1])\n",
    "    q1 = (df[k][50*2-2], df[k][50*2-1])\n",
    "    q2 = (df[k][51*2-2], df[k][51*2-1])\n",
    "    q3 = (df[k][52*2-2], df[k][52*2-1])\n",
    "    q4 = (df[k][53*2-2], df[k][53*2-1])\n",
    "    q5 = (df[k][54*2-2], df[k][54*2-1])\n",
    "    p = (df[k][55*2-2], df[k][55*2-1])\n",
    "    p1 = (df[k][56*2-2], df[k][56*2-1])\n",
    "    p2 = (df[k][57*2-2], df[k][57*2-1])\n",
    "    p3 = (df[k][58*2-2], df[k][58*2-1])\n",
    "    p4 = (df[k][59*2-2], df[k][59*2-1])\n",
    "    p5 = (df[k][60*2-2], df[k][60*2-1])\n",
    "    ff3 = polyarea([q,q1,q2,q3,q4,q5,p,p1,p2,p3,p4,p5])\n",
    "    ff3_.append(ff3)\n",
    "ff3_ = pd.DataFrame(ff3_)\n",
    "print(len(ff3_),ff3_)"
   ]
  },
  {
   "cell_type": "code",
   "execution_count": 28,
   "id": "ba4b4b5c",
   "metadata": {},
   "outputs": [
    {
     "data": {
      "text/plain": [
       "7926.5"
      ]
     },
     "execution_count": 28,
     "metadata": {},
     "output_type": "execute_result"
    }
   ],
   "source": [
    "ff3_[0][4]"
   ]
  },
  {
   "cell_type": "markdown",
   "id": "18bcc6a1",
   "metadata": {},
   "source": [
    "Mouth area eye area ratio, No.11:"
   ]
  },
  {
   "cell_type": "code",
   "execution_count": 29,
   "id": "a19bbedb",
   "metadata": {},
   "outputs": [
    {
     "name": "stdout",
     "output_type": "stream",
     "text": [
      "4834              0\n",
      "0     0.124861\n",
      "1     0.514071\n",
      "2     0.090210\n",
      "3     0.290835\n",
      "4     0.291364\n",
      "...        ...\n",
      "4829  0.530500\n",
      "4830  0.284649\n",
      "4831  0.227122\n",
      "4832  0.762433\n",
      "4833  1.047250\n",
      "\n",
      "[4834 rows x 1 columns]\n"
     ]
    }
   ],
   "source": [
    "ff11_ = []\n",
    "for k in range(0, len(df)):\n",
    "    ff11_.append((ff1_[0][k] + ff2_[0][k])/ff3_[0][k] )\n",
    "ff11_ = pd.DataFrame(ff11_)\n",
    "print (len(ff11_), ff11_)"
   ]
  },
  {
   "cell_type": "markdown",
   "id": "51e19efd",
   "metadata": {},
   "source": [
    "Left right eye ratio, No.12:"
   ]
  },
  {
   "cell_type": "code",
   "execution_count": 30,
   "id": "03e1a66a",
   "metadata": {},
   "outputs": [
    {
     "name": "stdout",
     "output_type": "stream",
     "text": [
      "4834              0\n",
      "0     0.894144\n",
      "1     1.046461\n",
      "2     1.061630\n",
      "3     0.945742\n",
      "4     1.037975\n",
      "...        ...\n",
      "4829  1.068642\n",
      "4830  1.087185\n",
      "4831  0.922308\n",
      "4832  0.984094\n",
      "4833  1.017311\n",
      "\n",
      "[4834 rows x 1 columns]\n"
     ]
    }
   ],
   "source": [
    "ff12_ = []\n",
    "for k in range(0, len(df)):\n",
    "    ff12_.append(ff4_[0][k]/ff5_[0][k])\n",
    "ff12_ = pd.DataFrame(ff12_)\n",
    "print (len(ff12_), ff12_)\n"
   ]
  },
  {
   "cell_type": "markdown",
   "id": "47e29a89",
   "metadata": {},
   "source": [
    "Determining angles by using the cosine law:"
   ]
  },
  {
   "cell_type": "markdown",
   "id": "8fea3ad3",
   "metadata": {},
   "source": [
    "Angle mouth chin, No. 13:"
   ]
  },
  {
   "cell_type": "code",
   "execution_count": 31,
   "id": "50edae1b",
   "metadata": {},
   "outputs": [
    {
     "name": "stdout",
     "output_type": "stream",
     "text": [
      "4834               0\n",
      "0     66.291362\n",
      "1     74.768404\n",
      "2     52.745317\n",
      "3     78.619921\n",
      "4     61.959363\n",
      "...         ...\n",
      "4829  67.955469\n",
      "4830  56.066344\n",
      "4831  61.585811\n",
      "4832  67.590982\n",
      "4833  59.694543\n",
      "\n",
      "[4834 rows x 1 columns]\n"
     ]
    }
   ],
   "source": [
    "ff13_ = []\n",
    "for k in range(0, len(df)):\n",
    "    #Build vectors\n",
    "    v1 = (df[k][49*2-2]-df[k][9*2-2], df[k][49*2-1]-df[k][9*2-1])\n",
    "    v2 = (df[k][55*2-2]-df[k][9*2-2], df[k][55*2-1]-df[k][9*2-1])\n",
    "    #Calculate cosine of the angle:\n",
    "    cos_al = np.dot(v1,v2)/(np.linalg.norm(v1)*np.linalg.norm(v2)) \n",
    "    ff13 = np.degrees(np.arccos(cos_al))\n",
    "    ff13_.append(ff13)\n",
    "ff13_ = pd.DataFrame(ff13_)\n",
    "print (len(ff13_), ff13_)"
   ]
  },
  {
   "cell_type": "markdown",
   "id": "70a7eb5f",
   "metadata": {},
   "source": [
    "Eyes nose angle, No. 14:"
   ]
  },
  {
   "cell_type": "code",
   "execution_count": 32,
   "id": "5aedbb82",
   "metadata": {},
   "outputs": [
    {
     "name": "stdout",
     "output_type": "stream",
     "text": [
      "4834               0\n",
      "0     76.944777\n",
      "1     87.775568\n",
      "2     76.391523\n",
      "3     89.180579\n",
      "4     78.018463\n",
      "...         ...\n",
      "4829  88.035870\n",
      "4830  91.233527\n",
      "4831  84.552279\n",
      "4832  95.208011\n",
      "4833  76.863705\n",
      "\n",
      "[4834 rows x 1 columns]\n"
     ]
    }
   ],
   "source": [
    "ff14_ = []\n",
    "for k in range(0, len(df)):\n",
    "    #Build vectors\n",
    "    v1 = (df[k][37*2-2]-df[k][34*2-2], df[k][37*2-1]-df[k][34*2-1])\n",
    "    v2 = (df[k][46*2-2]-df[k][34*2-2], df[k][46*2-1]-df[k][34*2-1])\n",
    "    #Calculate cosine of the angle:\n",
    "    cos_al = np.dot(v1,v2)/(np.linalg.norm(v1)*np.linalg.norm(v2)) \n",
    "    ff14 = np.degrees(np.arccos(cos_al))\n",
    "    ff14_.append(ff14)\n",
    "ff14_ = pd.DataFrame(ff14_)\n",
    "print (len(ff14_), ff14_)"
   ]
  },
  {
   "cell_type": "markdown",
   "id": "7155d09f",
   "metadata": {},
   "source": [
    "---"
   ]
  },
  {
   "cell_type": "markdown",
   "id": "45a35436",
   "metadata": {},
   "source": [
    "Building up the final csv file with all extracted facial features:"
   ]
  },
  {
   "cell_type": "code",
   "execution_count": 33,
   "id": "160b1313",
   "metadata": {},
   "outputs": [
    {
     "name": "stdout",
     "output_type": "stream",
     "text": [
      "              0       0       0        0          0          0           0  \\\n",
      "0     82.000000  1291.5  1233.5  20222.5  51.946708  58.096597  192.634577   \n",
      "1     15.000000   876.0   868.5   3393.5  50.712792  48.461249  129.158936   \n",
      "2     83.000000   633.5   628.0  13984.0  39.659682  37.357342  145.271817   \n",
      "3     30.805844  1911.5  1991.5  13420.0  56.155777  59.377501  156.197480   \n",
      "4     35.000000  1165.0  1144.5   7926.5  35.927589  34.613154  147.043171   \n",
      "...         ...     ...     ...      ...        ...        ...         ...   \n",
      "4829  12.041595  1867.0  1846.5   7000.0  55.724270  52.144962  154.237741   \n",
      "4830  64.070274  1560.0  1378.0  10321.5  68.161018  62.694956  126.335757   \n",
      "4831  52.345009  1176.0  1296.0  10884.0  49.383968  53.543887  129.880984   \n",
      "4832  22.022716  1650.5  1852.5   4594.5  53.767311  54.636371  110.411160   \n",
      "4833  25.000000  1420.5  1350.0   2645.5  60.368337  59.341091  154.193784   \n",
      "\n",
      "               0          0          0           0         0         0  \\\n",
      "0     129.348283  26.305893  52.354560  505.284079  0.124861  0.894144   \n",
      "1      69.865869  42.011903  75.166482  364.137337  0.514071  1.046461   \n",
      "2     105.065432  24.020824  57.035077  420.233269  0.090210  1.061630   \n",
      "3     115.436728  36.359318  54.129474  472.969344  0.290835  0.945742   \n",
      "4      99.508335  33.015148  75.059976  381.996073  0.291364  1.037975   \n",
      "...          ...        ...        ...         ...       ...       ...   \n",
      "4829   80.289830  59.000000  73.824115  430.029069  0.530500  1.068642   \n",
      "4830   80.420090  29.068884  69.180922  394.001269  0.284649  1.087185   \n",
      "4831   81.061477  26.248809  62.936476  351.647551  0.227122  0.922308   \n",
      "4832   61.737796  37.336309  57.706152  374.370138  0.762433  0.984094   \n",
      "4833   85.639086  42.011903  92.439169  410.537453  1.047250  1.017311   \n",
      "\n",
      "              0          0  0  \n",
      "0     66.291362  76.944777  0  \n",
      "1     74.768404  87.775568  0  \n",
      "2     52.745317  76.391523  0  \n",
      "3     78.619921  89.180579  0  \n",
      "4     61.959363  78.018463  0  \n",
      "...         ...        ... ..  \n",
      "4829  67.955469  88.035870  6  \n",
      "4830  56.066344  91.233527  6  \n",
      "4831  61.585811  84.552279  6  \n",
      "4832  67.590982  95.208011  6  \n",
      "4833  59.694543  76.863705  6  \n",
      "\n",
      "[4834 rows x 16 columns]\n"
     ]
    }
   ],
   "source": [
    "classcolumn = pd.DataFrame(df[0:, 136])\n",
    "data = [ff0_, ff1_,ff2_, ff3_, ff4_, ff5_,ff6_, ff7_, ff8_, ff9_, ff10_, ff11_, ff12_, ff13_, ff14_, classcolumn]\n",
    "df_all = pd.concat(data, axis =1)\n",
    "print(df_all)"
   ]
  },
  {
   "cell_type": "code",
   "execution_count": 34,
   "id": "03e3bdba",
   "metadata": {},
   "outputs": [],
   "source": [
    "df_all.to_csv('finaltestdata.csv', index=False, header = False) #Generates a file automatically!"
   ]
  },
  {
   "cell_type": "markdown",
   "id": "4b576853",
   "metadata": {},
   "source": [
    "---"
   ]
  },
  {
   "cell_type": "markdown",
   "id": "9fe1b60d",
   "metadata": {},
   "source": [
    "Now for the test data:"
   ]
  },
  {
   "cell_type": "code",
   "execution_count": null,
   "id": "8088d25b",
   "metadata": {},
   "outputs": [],
   "source": []
  }
 ],
 "metadata": {
  "kernelspec": {
   "display_name": "applied_ml",
   "language": "python",
   "name": "python3"
  },
  "language_info": {
   "codemirror_mode": {
    "name": "ipython",
    "version": 3
   },
   "file_extension": ".py",
   "mimetype": "text/x-python",
   "name": "python",
   "nbconvert_exporter": "python",
   "pygments_lexer": "ipython3",
   "version": "3.10.16"
  }
 },
 "nbformat": 4,
 "nbformat_minor": 5
}
